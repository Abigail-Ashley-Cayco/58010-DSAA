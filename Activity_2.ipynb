{
  "nbformat": 4,
  "nbformat_minor": 0,
  "metadata": {
    "colab": {
      "provenance": [],
      "authorship_tag": "ABX9TyN+7/ASBHaCN4jzYjixQLtn",
      "include_colab_link": true
    },
    "kernelspec": {
      "name": "python3",
      "display_name": "Python 3"
    },
    "language_info": {
      "name": "python"
    }
  },
  "cells": [
    {
      "cell_type": "markdown",
      "metadata": {
        "id": "view-in-github",
        "colab_type": "text"
      },
      "source": [
        "<a href=\"https://colab.research.google.com/github/Abigail-Ashley-Cayco/58010-DSAA/blob/main/Activity_2.ipynb\" target=\"_parent\"><img src=\"https://colab.research.google.com/assets/colab-badge.svg\" alt=\"Open In Colab\"/></a>"
      ]
    },
    {
      "cell_type": "code",
      "execution_count": 19,
      "metadata": {
        "colab": {
          "base_uri": "https://localhost:8080/"
        },
        "id": "VkIPFm_y28rA",
        "outputId": "5776fc6c-5bba-4b6f-fcf4-cc72752d501e"
      },
      "outputs": [
        {
          "output_type": "stream",
          "name": "stdout",
          "text": [
            "Prime Numbers that are less than 20:\n",
            "[2, 3, 5, 7, 11, 13, 17, 19]\n",
            "The Head of the list is: 2\n",
            "The Tail of the list is: 19\n"
          ]
        }
      ],
      "source": [
        "class Node:\n",
        "    def __init__(self, data):\n",
        "        self.data = data\n",
        "        self.next = None\n",
        "\n",
        "def is_prime(n):\n",
        "    if n <= 1:\n",
        "        return False\n",
        "    if n <= 3:\n",
        "        return True\n",
        "    if n % 2 == 0 or n % 3 == 0:\n",
        "        return False\n",
        "    i = 5\n",
        "    while i * i <= n:\n",
        "        if n % i == 0 or n % (i + 2) == 0:\n",
        "            return False\n",
        "        i += 6\n",
        "    return True\n",
        "\n",
        "def create_prime_linked_list(limit):\n",
        "    head = None\n",
        "    tail = None\n",
        "    for num in range(2, limit):\n",
        "        if is_prime(num):\n",
        "            new_node = Node(num)\n",
        "            if head is None:\n",
        "                head = new_node\n",
        "                tail = new_node\n",
        "            else:\n",
        "                tail.next = new_node\n",
        "                tail = new_node\n",
        "    return head, tail\n",
        "\n",
        "def display_linked_list(head, tail):\n",
        "    current = head\n",
        "    prime_numbers = []\n",
        "    while current:\n",
        "        prime_numbers.append(current.data)\n",
        "        current = current.next\n",
        "    return prime_numbers\n",
        "\n",
        "if __name__ == \"__main__\":\n",
        "    limit = 20\n",
        "    head, tail = create_prime_linked_list(limit)\n",
        "    prime_numbers = display_linked_list(head, tail)\n",
        "\n",
        "    print(\"Prime Numbers that are less than 20:\")\n",
        "    print(prime_numbers)\n",
        "    if head:\n",
        "        print(\"The Head of the list is:\", head.data)\n",
        "    if tail:\n",
        "        print(\"The Tail of the list is:\", tail.data)"
      ]
    }
  ]
}