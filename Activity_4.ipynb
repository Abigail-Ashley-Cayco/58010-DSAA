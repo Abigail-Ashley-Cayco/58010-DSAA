{
  "nbformat": 4,
  "nbformat_minor": 0,
  "metadata": {
    "colab": {
      "provenance": [],
      "authorship_tag": "ABX9TyN+l+K05CtXc0UR3HrW5mg8",
      "include_colab_link": true
    },
    "kernelspec": {
      "name": "python3",
      "display_name": "Python 3"
    },
    "language_info": {
      "name": "python"
    }
  },
  "cells": [
    {
      "cell_type": "markdown",
      "metadata": {
        "id": "view-in-github",
        "colab_type": "text"
      },
      "source": [
        "<a href=\"https://colab.research.google.com/github/Abigail-Ashley-Cayco/58010-DSAA/blob/main/Activity_4.ipynb\" target=\"_parent\"><img src=\"https://colab.research.google.com/assets/colab-badge.svg\" alt=\"Open In Colab\"/></a>"
      ]
    },
    {
      "cell_type": "code",
      "execution_count": 63,
      "metadata": {
        "colab": {
          "base_uri": "https://localhost:8080/"
        },
        "id": "vt_fqNq0PCZt",
        "outputId": "c090ec5a-3fc9-4e34-e0c4-753efef25023"
      },
      "outputs": [
        {
          "output_type": "stream",
          "name": "stdout",
          "text": [
            "[2, 4, 6, 8, 10, 12, 14, 16, 18, 20, 22, 24, 26, 28, 30, 32, 34, 36, 38, 40, 42, 44, 46, 48, 50]\n",
            "[4, 6, 8, 10, 12, 14, 16, 18, 20, 22, 24, 26, 28, 30, 32, 34, 36, 38, 40, 42, 44, 46, 48, 50]\n",
            "[6, 8, 10, 12, 14, 16, 18, 20, 22, 24, 26, 28, 30, 32, 34, 36, 38, 40, 42, 44, 46, 48, 50]\n",
            "[8, 10, 12, 14, 16, 18, 20, 22, 24, 26, 28, 30, 32, 34, 36, 38, 40, 42, 44, 46, 48, 50]\n",
            "[10, 12, 14, 16, 18, 20, 22, 24, 26, 28, 30, 32, 34, 36, 38, 40, 42, 44, 46, 48, 50]\n",
            "[12, 14, 16, 18, 20, 22, 24, 26, 28, 30, 32, 34, 36, 38, 40, 42, 44, 46, 48, 50]\n",
            "[14, 16, 18, 20, 22, 24, 26, 28, 30, 32, 34, 36, 38, 40, 42, 44, 46, 48, 50]\n",
            "[16, 18, 20, 22, 24, 26, 28, 30, 32, 34, 36, 38, 40, 42, 44, 46, 48, 50]\n",
            "[18, 20, 22, 24, 26, 28, 30, 32, 34, 36, 38, 40, 42, 44, 46, 48, 50]\n",
            "[20, 22, 24, 26, 28, 30, 32, 34, 36, 38, 40, 42, 44, 46, 48, 50]\n",
            "[22, 24, 26, 28, 30, 32, 34, 36, 38, 40, 42, 44, 46, 48, 50]\n",
            "[24, 26, 28, 30, 32, 34, 36, 38, 40, 42, 44, 46, 48, 50]\n",
            "[26, 28, 30, 32, 34, 36, 38, 40, 42, 44, 46, 48, 50]\n",
            "[28, 30, 32, 34, 36, 38, 40, 42, 44, 46, 48, 50]\n",
            "[30, 32, 34, 36, 38, 40, 42, 44, 46, 48, 50]\n",
            "[32, 34, 36, 38, 40, 42, 44, 46, 48, 50]\n",
            "[34, 36, 38, 40, 42, 44, 46, 48, 50]\n",
            "[36, 38, 40, 42, 44, 46, 48, 50]\n",
            "[38, 40, 42, 44, 46, 48, 50]\n",
            "[40, 42, 44, 46, 48, 50]\n",
            "[42, 44, 46, 48, 50]\n",
            "[44, 46, 48, 50]\n",
            "[46, 48, 50]\n",
            "[48, 50]\n",
            "[50]\n",
            "The queue is empty\n",
            "[]\n"
          ]
        }
      ],
      "source": [
        "queue = []\n",
        "for x in range(1,51):\n",
        "  if x % 2 == 0:\n",
        "    queue.append(x)\n",
        "print(queue)\n",
        "for y in range(25):\n",
        "  queue.pop(0)\n",
        "  if queue == []:\n",
        "    print(\"The queue is empty\")\n",
        "  print(queue)"
      ]
    }
  ]
}