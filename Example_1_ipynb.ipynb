{
  "nbformat": 4,
  "nbformat_minor": 0,
  "metadata": {
    "colab": {
      "provenance": [],
      "authorship_tag": "ABX9TyNv56ppl2DWeTJZ+jNpV0Lk",
      "include_colab_link": true
    },
    "kernelspec": {
      "name": "python3",
      "display_name": "Python 3"
    },
    "language_info": {
      "name": "python"
    }
  },
  "cells": [
    {
      "cell_type": "markdown",
      "metadata": {
        "id": "view-in-github",
        "colab_type": "text"
      },
      "source": [
        "<a href=\"https://colab.research.google.com/github/Abigail-Ashley-Cayco/58010-DSAA/blob/main/Example_1_ipynb.ipynb\" target=\"_parent\"><img src=\"https://colab.research.google.com/assets/colab-badge.svg\" alt=\"Open In Colab\"/></a>"
      ]
    },
    {
      "cell_type": "code",
      "source": [
        "width = float(input(\"Insert a value of width: \"))\n",
        "height = float(input(\"Insert a value of height: \"))\n",
        "area = (width*height)\n",
        "print(\"The area of your rectangle is: \", area)\n"
      ],
      "metadata": {
        "colab": {
          "base_uri": "https://localhost:8080/"
        },
        "id": "8SZFKrOdCIKs",
        "outputId": "c20e8058-a479-4ebb-d5b2-b3cc62671135"
      },
      "execution_count": 22,
      "outputs": [
        {
          "output_type": "stream",
          "name": "stdout",
          "text": [
            "Insert a value of width: 3\n",
            "Insert a value of height: 2\n",
            "The area of your rectangle is:  6.0\n"
          ]
        }
      ]
    },
    {
      "cell_type": "code",
      "source": [
        "r = float(input(\"Insert a value of raduis: \"))\n",
        "pi = 3.1415\n",
        "area = (pi*r*r)\n",
        "print(\"The are of your circle is : \", area)"
      ],
      "metadata": {
        "colab": {
          "base_uri": "https://localhost:8080/"
        },
        "id": "98G2HHkJHhal",
        "outputId": "598b548a-7330-4a24-cd05-7c6a08c7a432"
      },
      "execution_count": 27,
      "outputs": [
        {
          "output_type": "stream",
          "name": "stdout",
          "text": [
            "Insert a value of raduis: 2\n",
            "The are of your circle is :  12.566\n"
          ]
        }
      ]
    },
    {
      "cell_type": "code",
      "source": [],
      "metadata": {
        "id": "vRiipWLvJfc_"
      },
      "execution_count": null,
      "outputs": []
    }
  ]
}