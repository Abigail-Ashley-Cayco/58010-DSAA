{
  "nbformat": 4,
  "nbformat_minor": 0,
  "metadata": {
    "colab": {
      "provenance": [],
      "authorship_tag": "ABX9TyNKn2ZfgKXXnJZnDdeeOaM+",
      "include_colab_link": true
    },
    "kernelspec": {
      "name": "python3",
      "display_name": "Python 3"
    },
    "language_info": {
      "name": "python"
    }
  },
  "cells": [
    {
      "cell_type": "markdown",
      "metadata": {
        "id": "view-in-github",
        "colab_type": "text"
      },
      "source": [
        "<a href=\"https://colab.research.google.com/github/Abigail-Ashley-Cayco/58010-DSAA/blob/main/Lab_Act_8.ipynb\" target=\"_parent\"><img src=\"https://colab.research.google.com/assets/colab-badge.svg\" alt=\"Open In Colab\"/></a>"
      ]
    },
    {
      "cell_type": "code",
      "source": [
        "def create_queue():\n",
        "    queue = []\n",
        "    return queue\n",
        "\n",
        "# Creating an empty queue\n",
        "def is_empty(queue):\n",
        "    return len(queue) == 0\n",
        "\n",
        "# Adding items into the queue\n",
        "def enqueue(queue, item):\n",
        "    queue.append(item)\n",
        "    print(\"Enqueued Element: \", item)\n",
        "\n",
        "# Removing an element from the queue\n",
        "def dequeue(queue):\n",
        "    if is_empty(queue):\n",
        "        return \"The queue is empty\"\n",
        "    return queue.pop(0)\n",
        "\n",
        "\n",
        "queue = create_queue()\n",
        "enqueue(queue, str(1))\n",
        "enqueue(queue, str(2))\n",
        "enqueue(queue, str(3))\n",
        "enqueue(queue, str(4))\n",
        "enqueue(queue, str(5))\n",
        "print(\"The elements in the queue are:\", queue)\n",
        "\n",
        "for x in range(5):\n",
        "  dequeued_element= dequeue(queue)\n",
        "  print(\"The\", dequeued_element, \"element will dequeue\")\n",
        "  print(\"The elements in the queue are:\", queue)"
      ],
      "metadata": {
        "colab": {
          "base_uri": "https://localhost:8080/"
        },
        "id": "CB_rRu_3wjCO",
        "outputId": "02b2306d-f45f-40f6-c7f5-dfef40281da8"
      },
      "execution_count": 51,
      "outputs": [
        {
          "output_type": "stream",
          "name": "stdout",
          "text": [
            "Enqueued Element:  1\n",
            "Enqueued Element:  2\n",
            "Enqueued Element:  3\n",
            "Enqueued Element:  4\n",
            "Enqueued Element:  5\n",
            "The elements in the queue are: ['1', '2', '3', '4', '5']\n",
            "The 1 element will dequeue\n",
            "The elements in the queue are: ['2', '3', '4', '5']\n",
            "The 2 element will dequeue\n",
            "The elements in the queue are: ['3', '4', '5']\n",
            "The 3 element will dequeue\n",
            "The elements in the queue are: ['4', '5']\n",
            "The 4 element will dequeue\n",
            "The elements in the queue are: ['5']\n",
            "The 5 element will dequeue\n",
            "The elements in the queue are: []\n"
          ]
        }
      ]
    }
  ]
}