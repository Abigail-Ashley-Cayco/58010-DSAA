{
  "nbformat": 4,
  "nbformat_minor": 0,
  "metadata": {
    "colab": {
      "provenance": [],
      "authorship_tag": "ABX9TyPpG8+RXPEynor0WYqhi12k",
      "include_colab_link": true
    },
    "kernelspec": {
      "name": "python3",
      "display_name": "Python 3"
    },
    "language_info": {
      "name": "python"
    }
  },
  "cells": [
    {
      "cell_type": "markdown",
      "metadata": {
        "id": "view-in-github",
        "colab_type": "text"
      },
      "source": [
        "<a href=\"https://colab.research.google.com/github/Abigail-Ashley-Cayco/58010-DSAA/blob/main/Lab_act_1.ipynb\" target=\"_parent\"><img src=\"https://colab.research.google.com/assets/colab-badge.svg\" alt=\"Open In Colab\"/></a>"
      ]
    },
    {
      "cell_type": "code",
      "execution_count": 35,
      "metadata": {
        "colab": {
          "base_uri": "https://localhost:8080/"
        },
        "id": "H6ftu2iLRNN_",
        "outputId": "4fac947b-a732-49c7-b793-f6b1d7e33a59"
      },
      "outputs": [
        {
          "output_type": "stream",
          "name": "stdout",
          "text": [
            "Polygon 1: Square\n",
            "Number of sides: 4\n",
            "Area: 16.0\n",
            "Polygon 2: Triangle\n",
            "Polygon 2 Sides: 3\n",
            "Polygon 2 Area: 24.0\n"
          ]
        }
      ],
      "source": [
        "class Polygons:\n",
        "    def __init__(self, name=\"default\", num_sides=0, area=0.0):\n",
        "        self.name = name\n",
        "        self.num_sides = num_sides\n",
        "        self.area = area\n",
        "\n",
        "    def set_name(self, name):\n",
        "        self.name = name\n",
        "\n",
        "    def set_num_sides(self, num_sides):\n",
        "        self.num_sides = num_sides\n",
        "\n",
        "    def set_area(self, area):\n",
        "        self.area = area\n",
        "\n",
        "    def get_name(self) -> str:\n",
        "        return self.name\n",
        "\n",
        "    def get_num_sides(self) -> int:\n",
        "        return self.num_sides\n",
        "\n",
        "    def get_area(self) -> float:\n",
        "        return self.area\n",
        "\n",
        "polygon1 = Polygons(\"Square\", 4, 16.0)\n",
        "print(\"Polygon 1:\", polygon1.get_name())\n",
        "print(\"Number of sides:\", polygon1.get_num_sides())\n",
        "print(\"Area:\", polygon1.get_area())\n",
        "\n",
        "polygon1.set_name(\"Triangle\")\n",
        "polygon1.set_num_sides(3)\n",
        "polygon1.set_area(24.0)\n",
        "\n",
        "print(\"Polygon 2:\", polygon1.get_name())\n",
        "print(\"Polygon 2 Sides:\", polygon1.get_num_sides())\n",
        "print(\"Polygon 2 Area:\", polygon1.get_area())"
      ]
    }
  ]
}