{
  "nbformat": 4,
  "nbformat_minor": 0,
  "metadata": {
    "colab": {
      "provenance": [],
      "authorship_tag": "ABX9TyO4TH0MEtiUyQjPwSE1hk7f",
      "include_colab_link": true
    },
    "kernelspec": {
      "name": "python3",
      "display_name": "Python 3"
    },
    "language_info": {
      "name": "python"
    }
  },
  "cells": [
    {
      "cell_type": "markdown",
      "metadata": {
        "id": "view-in-github",
        "colab_type": "text"
      },
      "source": [
        "<a href=\"https://colab.research.google.com/github/Abigail-Ashley-Cayco/58010-DSAA/blob/main/Linked_Lists2.ipynb\" target=\"_parent\"><img src=\"https://colab.research.google.com/assets/colab-badge.svg\" alt=\"Open In Colab\"/></a>"
      ]
    },
    {
      "cell_type": "code",
      "execution_count": 12,
      "metadata": {
        "colab": {
          "base_uri": "https://localhost:8080/",
          "height": 35
        },
        "id": "aSdQV-uGRFHi",
        "outputId": "a4309b92-559d-4535-fc10-606ec1474b6d"
      },
      "outputs": [
        {
          "output_type": "execute_result",
          "data": {
            "text/plain": [
              "'f'"
            ],
            "application/vnd.google.colaboratory.intrinsic+json": {
              "type": "string"
            }
          },
          "metadata": {},
          "execution_count": 12
        }
      ],
      "source": [
        "import array\n",
        "array.typecodes #get all typecodes\n",
        "a = array.array ('i',[1,2,3,4,5,6])\n",
        "b = array.array ('f',[1.5,2.5,3.5,4.5,5.5,6.5])\n",
        "a.typecode\n",
        "b.typecode"
      ]
    },
    {
      "cell_type": "code",
      "source": [
        "import array\n",
        "array.typecodes #get all typecodes\n",
        "a = array.array ('f',[1,2,3,4,5,6])\n",
        "b = array.array ('f',[1.5,2.5,3.5,4.5,5.5,6.5])\n",
        "a.typecode\n",
        "b.typecode"
      ],
      "metadata": {
        "colab": {
          "base_uri": "https://localhost:8080/",
          "height": 35
        },
        "id": "zeHWx2ExSaK9",
        "outputId": "b11d750c-b81a-45d8-8a63-242d02b7d12a"
      },
      "execution_count": 13,
      "outputs": [
        {
          "output_type": "execute_result",
          "data": {
            "text/plain": [
              "'f'"
            ],
            "application/vnd.google.colaboratory.intrinsic+json": {
              "type": "string"
            }
          },
          "metadata": {},
          "execution_count": 13
        }
      ]
    },
    {
      "cell_type": "code",
      "source": [
        "from array import array\n",
        "a=array('i',[4,5,6,7])\n",
        "a.insert(1,2)\n",
        "a"
      ],
      "metadata": {
        "colab": {
          "base_uri": "https://localhost:8080/"
        },
        "id": "aUXmmiK7TOyV",
        "outputId": "947a64f8-e479-47a1-d915-eb3a337a39c8"
      },
      "execution_count": 59,
      "outputs": [
        {
          "output_type": "execute_result",
          "data": {
            "text/plain": [
              "array('i', [4, 2, 5, 6, 7])"
            ]
          },
          "metadata": {},
          "execution_count": 59
        }
      ]
    },
    {
      "cell_type": "code",
      "source": [
        "from array import array\n",
        "a=array('i',[4,5,6,7])\n",
        "a.insert(-1,0)\n",
        "a"
      ],
      "metadata": {
        "colab": {
          "base_uri": "https://localhost:8080/"
        },
        "id": "TuSYCUCST4KN",
        "outputId": "d0893f6f-f416-4c32-c347-ef953831364b"
      },
      "execution_count": 16,
      "outputs": [
        {
          "output_type": "execute_result",
          "data": {
            "text/plain": [
              "array('i', [4, 5, 6, 0, 7])"
            ]
          },
          "metadata": {},
          "execution_count": 16
        }
      ]
    },
    {
      "cell_type": "code",
      "source": [
        "from array import array\n",
        "a=array('i',[4,5,6,7])\n",
        "a.insert(10,-1) #insert element: -1 at index: 10, this is out of range\n",
        "a"
      ],
      "metadata": {
        "colab": {
          "base_uri": "https://localhost:8080/"
        },
        "id": "EHInV8YnUG-d",
        "outputId": "1969ac55-d8ce-41ea-822c-bad12d2060b8"
      },
      "execution_count": 17,
      "outputs": [
        {
          "output_type": "execute_result",
          "data": {
            "text/plain": [
              "array('i', [4, 5, 6, 7, -1])"
            ]
          },
          "metadata": {},
          "execution_count": 17
        }
      ]
    },
    {
      "cell_type": "code",
      "source": [
        "#node class\n",
        "class Node:\n",
        "  def __init__(self,data):\n",
        "   self.data = data\n",
        "   self.next = None\n",
        "#Linked List class\n",
        "class Linkedlist:\n",
        "  def __init(self):\n",
        "    self.head = None\n",
        "  def printList(self):\n",
        "    temp = self.head\n",
        "    while(temp):\n",
        "      print(temp.data),\n",
        "      temp = temp.next\n",
        "if __name__=='main__':\n",
        "  llist = LinkedList()\n",
        "  llist.head = Node(1)\n",
        "  second = Node(2)\n",
        "  third = Node(3)\n",
        "\n",
        "  llist.head.next = second;\n",
        "  second.next = third;\n",
        "\n",
        "print(\"Linked List: \")\n",
        "Linkedlist.printList"
      ],
      "metadata": {
        "colab": {
          "base_uri": "https://localhost:8080/"
        },
        "id": "1BvWVPXHUVrl",
        "outputId": "ee860fa7-88ac-4abf-c4fa-f2c21ddad992"
      },
      "execution_count": 102,
      "outputs": [
        {
          "output_type": "stream",
          "name": "stdout",
          "text": [
            "Linked List: \n"
          ]
        },
        {
          "output_type": "execute_result",
          "data": {
            "text/plain": [
              "<function __main__.Linkedlist.printList(self)>"
            ]
          },
          "metadata": {},
          "execution_count": 102
        }
      ]
    }
  ]
}