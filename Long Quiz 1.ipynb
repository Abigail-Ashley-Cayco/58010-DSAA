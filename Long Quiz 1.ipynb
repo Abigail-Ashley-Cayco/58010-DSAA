{
  "nbformat": 4,
  "nbformat_minor": 0,
  "metadata": {
    "colab": {
      "provenance": [],
      "authorship_tag": "ABX9TyN3/THwMTWtHyZRH+4bbYUu",
      "include_colab_link": true
    },
    "kernelspec": {
      "name": "python3",
      "display_name": "Python 3"
    },
    "language_info": {
      "name": "python"
    }
  },
  "cells": [
    {
      "cell_type": "markdown",
      "metadata": {
        "id": "view-in-github",
        "colab_type": "text"
      },
      "source": [
        "<a href=\"https://colab.research.google.com/github/Abigail-Ashley-Cayco/58010-DSAA/blob/main/Long%20Quiz%201.ipynb\" target=\"_parent\"><img src=\"https://colab.research.google.com/assets/colab-badge.svg\" alt=\"Open In Colab\"/></a>"
      ]
    },
    {
      "cell_type": "code",
      "execution_count": 1,
      "metadata": {
        "colab": {
          "base_uri": "https://localhost:8080/"
        },
        "id": "xuM9NmzJiEmc",
        "outputId": "58584800-b70a-4209-eca4-f06f31516bdd"
      },
      "outputs": [
        {
          "output_type": "stream",
          "name": "stdout",
          "text": [
            "Full Name: Abigail Ashley P. Cayco\n",
            "['o', 'c', 'y', 'a', 'C', ' ', '.', 'P', ' ', 'y', 'e', 'l', 'h', 's', 'A', ' ', 'l', 'i', 'a', 'g', 'i', 'b', 'A']\n"
          ]
        }
      ],
      "source": [
        "print(\"Full Name: Abigail Ashley P. Cayco\")\n",
        "array_char = []\n",
        "for char in \"Abigail Ashley P. Cayco\":\n",
        "  array_char.append(char)\n",
        "array_char.reverse()\n",
        "print(array_char)"
      ]
    },
    {
      "cell_type": "code",
      "source": [
        "if is_prime(num):\n",
        "  if num <= 1:\n",
        "    return False\n",
        "  elif num <= 3:\n",
        "    return True\n",
        "  elif num % 2 == 0 or num % 3 == 0:\n",
        "    return False\n",
        "  i = 5\n",
        "  while i * i <= nume:\n",
        "    if num % i == 0 or num % (i + 2) == 0:\n",
        "      return False\n",
        "    i += 6\n",
        "  return True\n",
        "\n",
        "numbers = [1, 2, 3, 4, 5, 6, 7, 8, 9, 10]\n",
        "\n",
        "for num in numbers:\n",
        "  if is_prime(num):\n",
        "    print(f\"{num} is prime number\")\n",
        "  else:\n",
        "    print(f\"{num} is a composite number\")\n"
      ],
      "metadata": {
        "colab": {
          "base_uri": "https://localhost:8080/"
        },
        "id": "OQevL0ESiGhH",
        "outputId": "c77ff865-aa4c-4e17-ad9f-c7b15f9832bc"
      },
      "execution_count": 2,
      "outputs": [
        {
          "output_type": "error",
          "ename": "SyntaxError",
          "evalue": "ignored",
          "traceback": [
            "\u001b[0;36m  File \u001b[0;32m\"<ipython-input-2-66cf57e185a2>\"\u001b[0;36m, line \u001b[0;32m3\u001b[0m\n\u001b[0;31m    return False\u001b[0m\n\u001b[0m    ^\u001b[0m\n\u001b[0;31mSyntaxError\u001b[0m\u001b[0;31m:\u001b[0m 'return' outside function\n"
          ]
        }
      ]
    }
  ]
}