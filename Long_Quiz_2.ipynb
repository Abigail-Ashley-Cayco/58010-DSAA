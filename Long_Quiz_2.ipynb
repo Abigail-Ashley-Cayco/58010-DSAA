{
  "nbformat": 4,
  "nbformat_minor": 0,
  "metadata": {
    "colab": {
      "provenance": [],
      "authorship_tag": "ABX9TyOuDrff1VX8k5WYkb02d9CT",
      "include_colab_link": true
    },
    "kernelspec": {
      "name": "python3",
      "display_name": "Python 3"
    },
    "language_info": {
      "name": "python"
    }
  },
  "cells": [
    {
      "cell_type": "markdown",
      "metadata": {
        "id": "view-in-github",
        "colab_type": "text"
      },
      "source": [
        "<a href=\"https://colab.research.google.com/github/Abigail-Ashley-Cayco/58010-DSAA/blob/main/Long_Quiz_2.ipynb\" target=\"_parent\"><img src=\"https://colab.research.google.com/assets/colab-badge.svg\" alt=\"Open In Colab\"/></a>"
      ]
    },
    {
      "cell_type": "code",
      "source": [
        "class graph:\n",
        "   def __init__(self,gdict=None):\n",
        "      if gdict is None:\n",
        "         gdict = []\n",
        "      self.gdict = gdict\n",
        "   def getVertices(self):\n",
        "      return list(self.gdict.keys())\n",
        "graph_elements = {\n",
        "   \"E\" : [\"I\",\"K\",\"J\",\"M\"],\n",
        "   \"F\" : [\"J\",\"I\",\"K\",\"P\"],\n",
        "   \"H\" : [\"I\",\"J\",\"K\"],\n",
        "   \"I\" : [\"H\",\"E\",\"F\"],\n",
        "   \"J\" : [\"H\",\"F\",\"E\"],\n",
        "   \"K\" : [\"E\",\"F\",\"H\"],\n",
        "   \"M\" : [\"E\"],\n",
        "   \"P\" : [\"F\"]\n",
        "}\n",
        "g = graph(graph_elements)\n",
        "print(g.getVertices())"
      ],
      "metadata": {
        "colab": {
          "base_uri": "https://localhost:8080/"
        },
        "id": "sK7flkocZEG2",
        "outputId": "096b1a08-b99f-407f-adaf-2908b5989b65"
      },
      "execution_count": 2,
      "outputs": [
        {
          "output_type": "stream",
          "name": "stdout",
          "text": [
            "['E', 'F', 'H', 'I', 'J', 'K', 'M', 'P']\n"
          ]
        }
      ]
    },
    {
      "cell_type": "code",
      "execution_count": 1,
      "metadata": {
        "colab": {
          "base_uri": "https://localhost:8080/"
        },
        "id": "dOK7ylayJ07Y",
        "outputId": "e35c85b6-dca9-4fae-d6ea-9e26fd2a0af0"
      },
      "outputs": [
        {
          "output_type": "stream",
          "name": "stdout",
          "text": [
            "[{'E', 'I'}, {'E', 'K'}, {'E', 'J'}, {'E', 'M'}, {'J', 'F'}, {'I', 'F'}, {'K', 'F'}, {'P', 'F'}, {'H', 'I'}, {'J', 'H'}, {'K', 'H'}]\n"
          ]
        }
      ],
      "source": [
        "class graph:\n",
        "   def __init__(self,gdict=None):\n",
        "      if gdict is None:\n",
        "         gdict = {}\n",
        "      self.gdict = gdict\n",
        "\n",
        "   def edges(self):\n",
        "      return self.findedges()\n",
        "   def findedges(self):\n",
        "      edgename = []\n",
        "      for vrtx in self.gdict:\n",
        "         for nxtvrtx in self.gdict[vrtx]:\n",
        "            if {nxtvrtx, vrtx} not in edgename:\n",
        "               edgename.append({vrtx, nxtvrtx})\n",
        "      return edgename\n",
        "graph_elements = {\n",
        "   \"E\" : [\"I\",\"K\",\"J\",\"M\"],\n",
        "   \"F\" : [\"J\",\"I\",\"K\",\"P\"],\n",
        "   \"H\" : [\"I\",\"J\",\"K\"],\n",
        "   \"I\" : [\"H\",\"E\",\"F\"],\n",
        "   \"J\" : [\"H\",\"F\",\"E\"],\n",
        "   \"K\" : [\"E\",\"F\",\"H\"],\n",
        "   \"M\" : [\"E\"],\n",
        "   \"P\" : [\"F\"]\n",
        "}\n",
        "g = graph(graph_elements)\n",
        "print(g.edges())"
      ]
    }
  ]
}