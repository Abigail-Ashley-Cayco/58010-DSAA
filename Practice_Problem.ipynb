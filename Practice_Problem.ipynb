{
  "nbformat": 4,
  "nbformat_minor": 0,
  "metadata": {
    "colab": {
      "provenance": [],
      "authorship_tag": "ABX9TyP9EvlvS8Kq2IR1kSVf8Kh7",
      "include_colab_link": true
    },
    "kernelspec": {
      "name": "python3",
      "display_name": "Python 3"
    },
    "language_info": {
      "name": "python"
    }
  },
  "cells": [
    {
      "cell_type": "markdown",
      "metadata": {
        "id": "view-in-github",
        "colab_type": "text"
      },
      "source": [
        "<a href=\"https://colab.research.google.com/github/Abigail-Ashley-Cayco/58010-DSAA/blob/main/Practice_Problem.ipynb\" target=\"_parent\"><img src=\"https://colab.research.google.com/assets/colab-badge.svg\" alt=\"Open In Colab\"/></a>"
      ]
    },
    {
      "cell_type": "code",
      "source": [
        "x=0\n",
        "scores = [26, 49, 98, 87, 62, 75]\n",
        "for score in scores:\n",
        "    if score % 2 == 0:\n",
        "        x += score\n",
        "    elif score % 2 != 0:\n",
        "        continue\n",
        "print(\"The total sum of even scores in the test is: \", x)"
      ],
      "metadata": {
        "colab": {
          "base_uri": "https://localhost:8080/"
        },
        "id": "kqTtxCmwO20D",
        "outputId": "0a83936f-c292-4d67-8f07-95864291308c"
      },
      "execution_count": 23,
      "outputs": [
        {
          "output_type": "stream",
          "name": "stdout",
          "text": [
            "The total sum of even scores in the test is:  186\n"
          ]
        }
      ]
    }
  ]
}