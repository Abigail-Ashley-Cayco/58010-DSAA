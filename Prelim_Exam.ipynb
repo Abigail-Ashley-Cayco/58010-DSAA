{
  "nbformat": 4,
  "nbformat_minor": 0,
  "metadata": {
    "colab": {
      "provenance": [],
      "authorship_tag": "ABX9TyMqguDHLI2IMrJLoDyNOBE+",
      "include_colab_link": true
    },
    "kernelspec": {
      "name": "python3",
      "display_name": "Python 3"
    },
    "language_info": {
      "name": "python"
    }
  },
  "cells": [
    {
      "cell_type": "markdown",
      "metadata": {
        "id": "view-in-github",
        "colab_type": "text"
      },
      "source": [
        "<a href=\"https://colab.research.google.com/github/Abigail-Ashley-Cayco/58010-DSAA/blob/main/Prelim_Exam.ipynb\" target=\"_parent\"><img src=\"https://colab.research.google.com/assets/colab-badge.svg\" alt=\"Open In Colab\"/></a>"
      ]
    },
    {
      "cell_type": "markdown",
      "source": [
        "Open your Python (Pycharm or Colab) or Dev C++ to create the source code for adding the test scores 26, 49, 98, 87, 62, 75"
      ],
      "metadata": {
        "id": "gsI26DEOX_zx"
      }
    },
    {
      "cell_type": "code",
      "execution_count": 2,
      "metadata": {
        "colab": {
          "base_uri": "https://localhost:8080/"
        },
        "id": "N3vWL4t7X-tx",
        "outputId": "b140a83e-2719-46e2-ed1c-cb42c28afec9"
      },
      "outputs": [
        {
          "output_type": "stream",
          "name": "stdout",
          "text": [
            "The sum of adding the test scores is:  397\n"
          ]
        }
      ],
      "source": [
        "scores = [26, 49, 98, 87, 62, 75]\n",
        "total = sum(scores)\n",
        "print(\"The sum of adding the test scores is: \", total)"
      ]
    },
    {
      "cell_type": "markdown",
      "source": [
        "Create a program to sort the test scores in ascending order."
      ],
      "metadata": {
        "id": "sNjE3dYjYD0v"
      }
    },
    {
      "cell_type": "code",
      "source": [
        "scores = [26, 49, 98, 87, 62, 75]\n",
        "total = sum(scores)\n",
        "print(\"The sum of adding the test scores is: \", total)\n",
        "scores.sort()\n",
        "print(\"The ascending order of the scores is: \", scores)"
      ],
      "metadata": {
        "colab": {
          "base_uri": "https://localhost:8080/"
        },
        "id": "36ZOXGMsYHT1",
        "outputId": "10f43d34-e6de-41cc-ba40-dc190aeced8a"
      },
      "execution_count": 13,
      "outputs": [
        {
          "output_type": "stream",
          "name": "stdout",
          "text": [
            "The sum of adding the test scores is:  397\n",
            "The ascending order of the scores is:  [26, 49, 62, 75, 87, 98]\n"
          ]
        }
      ]
    }
  ]
}