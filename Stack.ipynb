{
  "nbformat": 4,
  "nbformat_minor": 0,
  "metadata": {
    "colab": {
      "provenance": [],
      "authorship_tag": "ABX9TyODqL60YDuqH9/PQF1POSVl",
      "include_colab_link": true
    },
    "kernelspec": {
      "name": "python3",
      "display_name": "Python 3"
    },
    "language_info": {
      "name": "python"
    }
  },
  "cells": [
    {
      "cell_type": "markdown",
      "metadata": {
        "id": "view-in-github",
        "colab_type": "text"
      },
      "source": [
        "<a href=\"https://colab.research.google.com/github/Abigail-Ashley-Cayco/58010-DSAA/blob/main/Stack.ipynb\" target=\"_parent\"><img src=\"https://colab.research.google.com/assets/colab-badge.svg\" alt=\"Open In Colab\"/></a>"
      ]
    },
    {
      "cell_type": "code",
      "execution_count": 34,
      "metadata": {
        "id": "2QGUaP8m44iX",
        "colab": {
          "base_uri": "https://localhost:8080/"
        },
        "outputId": "9d3ca157-8f7f-4123-84dd-2489d9dd108d"
      },
      "outputs": [
        {
          "output_type": "stream",
          "name": "stdout",
          "text": [
            "['Mon', 'Tues', 'Wed', 'Thurs', 'Fri', 'Sat', 'Sun']\n",
            "Sun\n",
            "['Mon', 'Tues', 'Wed', 'Thurs', 'Fri', 'Sat']\n",
            "Sat\n",
            "['Mon', 'Tues', 'Wed', 'Thurs', 'Fri']\n",
            "5\n"
          ]
        }
      ],
      "source": [
        "class Stack:\n",
        "  def __init__(self):\n",
        "    self.stack = [] ##To create a stack that's empty\n",
        "  def add(self, dataval): ##Use list append method to add element ## Method\n",
        "    if dataval not in self.stack:\n",
        "      self.stack.append(dataval)\n",
        "      return True\n",
        "    else:\n",
        "      return False\n",
        "      # Use list pop method to remove element\n",
        "  def remove(self):\n",
        "    if len(self.stack) <= 0:\n",
        "      return (\"No element in the Stack\")\n",
        "    else:\n",
        "      return self.stack.pop()\n",
        "\n",
        "AStack = Stack()\n",
        "AStack.add(\"Mon\")\n",
        "AStack.add(\"Tues\")\n",
        "AStack.add(\"Wed\")\n",
        "AStack.add(\"Thurs\")\n",
        "AStack.add(\"Fri\")\n",
        "AStack.add(\"Sat\")\n",
        "AStack.add(\"Sun\")\n",
        "print(AStack.stack) #Print Stack\n",
        "print(AStack.remove()) #Remove the dulo of the stack\n",
        "print(AStack.stack) #Print the Stack to visualize the removal\n",
        "print(AStack.remove())\n",
        "print(AStack.stack)\n",
        "x = len(AStack.stack) #To count the len of the Stack\n",
        "print(x)"
      ]
    }
  ]
}