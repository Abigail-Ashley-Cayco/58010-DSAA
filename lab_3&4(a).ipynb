{
  "nbformat": 4,
  "nbformat_minor": 0,
  "metadata": {
    "colab": {
      "provenance": [],
      "authorship_tag": "ABX9TyO+5o2irLJIgsUPCyYIK0MY",
      "include_colab_link": true
    },
    "kernelspec": {
      "name": "python3",
      "display_name": "Python 3"
    },
    "language_info": {
      "name": "python"
    }
  },
  "cells": [
    {
      "cell_type": "markdown",
      "metadata": {
        "id": "view-in-github",
        "colab_type": "text"
      },
      "source": [
        "<a href=\"https://colab.research.google.com/github/Abigail-Ashley-Cayco/58010-DSAA/blob/main/lab_3%264(a).ipynb\" target=\"_parent\"><img src=\"https://colab.research.google.com/assets/colab-badge.svg\" alt=\"Open In Colab\"/></a>"
      ]
    },
    {
      "cell_type": "code",
      "execution_count": 19,
      "metadata": {
        "colab": {
          "base_uri": "https://localhost:8080/"
        },
        "id": "ekBnqDEY-wNs",
        "outputId": "358f2b5a-d808-464e-ad64-1172551e0239"
      },
      "outputs": [
        {
          "output_type": "stream",
          "name": "stdout",
          "text": [
            "7\n"
          ]
        }
      ],
      "source": [
        "def repeated(a):\n",
        "    for i in range(len(a) - 1):\n",
        "        if a[i] == a[i + 1]:\n",
        "            return a[i]\n",
        "    return\n",
        "\n",
        "array = [1, 2, 3, 4, 5, 6, 7, 7, 8, 9]\n",
        "print(repeated(array))"
      ]
    },
    {
      "cell_type": "code",
      "source": [
        "Scores = [26,49,98,87,62,75]\n",
        "result = 0\n",
        "for sum in Scores:\n",
        "  if not sum % 2:\n",
        "    result += sum\n",
        "\n",
        "print(\"The Sum of even scores is: \", result)"
      ],
      "metadata": {
        "colab": {
          "base_uri": "https://localhost:8080/"
        },
        "id": "hqUTBNpkBYI6",
        "outputId": "3b966ae1-4632-4194-d88b-4e5f3dc1053b"
      },
      "execution_count": 15,
      "outputs": [
        {
          "output_type": "stream",
          "name": "stdout",
          "text": [
            "The Sum of even scores is:  186\n"
          ]
        }
      ]
    }
  ]
}