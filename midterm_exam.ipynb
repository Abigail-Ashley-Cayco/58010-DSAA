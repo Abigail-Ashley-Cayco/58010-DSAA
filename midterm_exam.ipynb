{
  "nbformat": 4,
  "nbformat_minor": 0,
  "metadata": {
    "colab": {
      "provenance": [],
      "authorship_tag": "ABX9TyNZpxjSYIkZ45qniHs/6PxF",
      "include_colab_link": true
    },
    "kernelspec": {
      "name": "python3",
      "display_name": "Python 3"
    },
    "language_info": {
      "name": "python"
    }
  },
  "cells": [
    {
      "cell_type": "markdown",
      "metadata": {
        "id": "view-in-github",
        "colab_type": "text"
      },
      "source": [
        "<a href=\"https://colab.research.google.com/github/Abigail-Ashley-Cayco/58010-DSAA/blob/main/midterm_exam.ipynb\" target=\"_parent\"><img src=\"https://colab.research.google.com/assets/colab-badge.svg\" alt=\"Open In Colab\"/></a>"
      ]
    },
    {
      "cell_type": "code",
      "source": [
        "class graph:\n",
        "   def __init__(self,gdict=None):\n",
        "      if gdict is None:\n",
        "         gdict = {}\n",
        "      self.gdict = gdict\n",
        "\n",
        "   def edges(self):\n",
        "      return self.findedges()\n",
        "   def findedges(self):\n",
        "      edgename = []\n",
        "      for vrtx in self.gdict:\n",
        "         for nxtvrtx in self.gdict[vrtx]:\n",
        "            if {nxtvrtx, vrtx} not in edgename:\n",
        "               edgename.append({vrtx, nxtvrtx})\n",
        "      return edgename\n",
        "graph_elements = {\n",
        "   \"A\" : [\"B\"],\n",
        "   \"B\" : [\"A\",\"C\",\"E\",\"F\"],\n",
        "   \"C\" : [\"B\",\"D\",\"E\",\"F\",\"I\",\"M\"],\n",
        "   \"D\" : [\"C\",\"K\",\"L\"],\n",
        "   \"E\" : [\"B\",\"C\",\"N\"],\n",
        "   \"F\" : [\"B\",\"C\",\"G\",\"I\"],\n",
        "   \"G\" : [\"F\",\"I\",\"J\"],\n",
        "   \"I\" : [\"C\",\"F\",\"G\",\"J\",\"K\"],\n",
        "   \"J\" : [\"G\",\"I\",\"K\"],\n",
        "   \"K\" : [\"D\",\"I\",\"J\"],\n",
        "   \"L\" : [\"D\",\"M\",\"P\"],\n",
        "   \"M\" : [\"C\",\"L\",\"N\",\"O\",\"P\"],\n",
        "   \"N\" : [\"E\",\"M\",\"O\"],\n",
        "   \"O\" : [\"M\",\"N\",\"P\"],\n",
        "   \"P\" : [\"L\",\"M\",\"N\"]\n",
        "}\n",
        "g = graph(graph_elements)\n",
        "print(g.edges())\n",
        ""
      ],
      "metadata": {
        "colab": {
          "base_uri": "https://localhost:8080/"
        },
        "id": "biTv96yApjVd",
        "outputId": "b2ea281a-b5de-47e8-dc67-c1d6b443eace"
      },
      "execution_count": 2,
      "outputs": [
        {
          "output_type": "stream",
          "name": "stdout",
          "text": [
            "[{'A', 'B'}, {'C', 'B'}, {'B', 'E'}, {'F', 'B'}, {'C', 'D'}, {'C', 'E'}, {'C', 'F'}, {'I', 'C'}, {'C', 'M'}, {'D', 'K'}, {'L', 'D'}, {'N', 'E'}, {'F', 'G'}, {'I', 'F'}, {'I', 'G'}, {'G', 'J'}, {'I', 'J'}, {'I', 'K'}, {'J', 'K'}, {'L', 'M'}, {'L', 'P'}, {'N', 'M'}, {'O', 'M'}, {'P', 'M'}, {'N', 'O'}, {'P', 'O'}, {'N', 'P'}]\n"
          ]
        }
      ]
    },
    {
      "cell_type": "code",
      "execution_count": 1,
      "metadata": {
        "colab": {
          "base_uri": "https://localhost:8080/"
        },
        "id": "pTZPHNeGojNl",
        "outputId": "96125edf-18b0-4167-a5c9-7aa556e721db"
      },
      "outputs": [
        {
          "output_type": "stream",
          "name": "stdout",
          "text": [
            "['A', 'B', 'C', 'D', 'E', 'F', 'G', 'I', 'J', 'K', 'L', 'M', 'N', 'O', 'P']\n"
          ]
        }
      ],
      "source": [
        "class graph:\n",
        "   def __init__(self,gdict=None):\n",
        "      if gdict is None:\n",
        "         gdict = []\n",
        "      self.gdict = gdict\n",
        "   def getVertices(self):\n",
        "      return list(self.gdict.keys())\n",
        "graph_elements = {\n",
        "   \"A\" : [\"B\"],\n",
        "   \"B\" : [\"A\",\"C\",\"E\",\"F\"],\n",
        "   \"C\" : [\"B\",\"D\",\"E\",\"F\",\"I\",\"M\"],\n",
        "   \"D\" : [\"C\",\"K\",\"L\"],\n",
        "   \"E\" : [\"B\",\"C\",\"N\"],\n",
        "   \"F\" : [\"B\",\"C\",\"G\",\"I\"],\n",
        "   \"G\" : [\"F\",\"I\",\"J\"],\n",
        "   \"I\" : [\"C\",\"F\",\"G\",\"J\",\"K\"],\n",
        "   \"J\" : [\"G\",\"I\",\"K\"],\n",
        "   \"K\" : [\"D\",\"I\",\"J\"],\n",
        "   \"L\" : [\"D\",\"M\",\"P\"],\n",
        "   \"M\" : [\"C\",\"L\",\"N\",\"O\",\"P\"],\n",
        "   \"N\" : [\"E\",\"M\",\"O\"],\n",
        "   \"O\" : [\"M\",\"N\",\"P\"],\n",
        "   \"P\" : [\"L\",\"M\",\"N\"]\n",
        "}\n",
        "g = graph(graph_elements)\n",
        "print(g.getVertices())"
      ]
    }
  ]
}